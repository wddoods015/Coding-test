{
 "cells": [
  {
   "cell_type": "code",
   "execution_count": 7,
   "id": "27cc3c7c",
   "metadata": {},
   "outputs": [],
   "source": [
    "# ex)\n",
    "participant = [\"marina\", \"josipa\", \"nikola\", \"vinko\", \"filipa\",\"vinko\"]\n",
    "completion = [\"josipa\", \"filipa\", \"marina\", \"nikola\", \"vinko\"]"
   ]
  },
  {
   "cell_type": "markdown",
   "id": "4b037620",
   "metadata": {},
   "source": [
    "## 방법1: 기본 if문 사용하기"
   ]
  },
  {
   "cell_type": "code",
   "execution_count": 14,
   "id": "61e28a8e",
   "metadata": {
    "scrolled": false
   },
   "outputs": [],
   "source": [
    "\n",
    "def solution(participant, completion):\n",
    "    participant.sort()\n",
    "    completion.sort()\n",
    "    for i in range(len(participant)):\n",
    "        if participant[i] !=  completion[i]:\n",
    "            return participant[i]\n",
    "        \n",
    "    return participant[-1]\n",
    "#print(solution(participant, completion))"
   ]
  },
  {
   "cell_type": "markdown",
   "id": "d9aa8a85",
   "metadata": {},
   "source": [
    "## 방법 2 : 해쉬맵 - 키-값 쌍을 저장하는 자료구조 중 하나"
   ]
  },
  {
   "cell_type": "code",
   "execution_count": 9,
   "id": "b3fa0d1a",
   "metadata": {
    "scrolled": true
   },
   "outputs": [],
   "source": [
    "# 해쉬맵 사용하기 - 특징: 중복값, 순서 x\n",
    "\n",
    "def solution(participant, completion):\n",
    "    participant_dict = {}         # 빈 해쉬맵에서 참가자를 더한다.\n",
    "   \n",
    "    for p in participant:\n",
    "        if p in participant_dict:\n",
    "            participant_dict[p] += 1\n",
    "        else:\n",
    "            participant_dict[p] = 1\n",
    "                       \n",
    "    for c in completion:            # 참가자딕셔너리에서 완주자를 뺀다\n",
    "        if c in participant_dict:\n",
    "            participant_dict[c] -=1 # 맨끝에 요소 반환\n",
    "            if participant_dict[c] == 0: \n",
    "                del participant_dict[c]\n",
    "                \n",
    "    for p in participant_dict:\n",
    "        return p\n",
    "       "
   ]
  },
  {
   "cell_type": "code",
   "execution_count": 10,
   "id": "0f3090b9",
   "metadata": {},
   "outputs": [
    {
     "data": {
      "text/plain": [
       "'vinko'"
      ]
     },
     "execution_count": 10,
     "metadata": {},
     "output_type": "execute_result"
    }
   ],
   "source": [
    "participant = [\"marina\", \"josipa\", \"nikola\", \"vinko\", \"filipa\",\"vinko\"]\n",
    "completion = [\"josipa\", \"filipa\", \"marina\", \"nikola\", \"vinko\"]\n",
    "solution(participant, completion)"
   ]
  },
  {
   "cell_type": "markdown",
   "id": "615675b4",
   "metadata": {},
   "source": [
    "## 방법 3: Python 표준 라이브러리 collections 사용하기"
   ]
  },
  {
   "cell_type": "code",
   "execution_count": 11,
   "id": "e4a15d20",
   "metadata": {},
   "outputs": [],
   "source": [
    " # Python 표준 라이브러리 collections 사용하기\n",
    "import collections\n",
    "\n",
    "def solution(participant, completion):\n",
    "# Counter - 리스트 안에서 요소를 세고 {요소: 갯수} 형태로 반환    \n",
    "    answer = collections.Counter(participant) - collections.Counter(completion)\n",
    "# 정답중 키를 리스트로 만들어서 0번째 인덱스를 가져와라.    \n",
    "    return list(answer.keys())[0]"
   ]
  },
  {
   "cell_type": "code",
   "execution_count": 12,
   "id": "1f433c59",
   "metadata": {},
   "outputs": [
    {
     "data": {
      "text/plain": [
       "'vinko'"
      ]
     },
     "execution_count": 12,
     "metadata": {},
     "output_type": "execute_result"
    }
   ],
   "source": [
    "solution(participant, completion)"
   ]
  },
  {
   "cell_type": "code",
   "execution_count": 13,
   "id": "0f3a8b47",
   "metadata": {},
   "outputs": [],
   "source": [
    "def solution(participant, completion):\n",
    "    answer = ''\n",
    "    # completion 리스트를 set으로 변환하여 이름을 순서대로 정렬\n",
    "    completion_set = set(completion)\n",
    "    \n",
    "    # 주어진 조건 나열\n",
    "    if not (1 <= len(participant) <= 100000 and len(completion_set) == len(participant)-1 and all(len(name) <= 20 for name in participant)):\n",
    "        return \"Invalid length of participant list\"\n",
    "\n",
    "    # 완주자 명단에 없는 경우\n",
    "    for name in participant:\n",
    "        if name not in completion_set:\n",
    "            answer = f'{name} 참여자 명단에는 있지만, 완주자 명단에는 없기 때문에 완주하지 못했습니다.'\n",
    "            break\n",
    "    \n",
    "    # 완주자 명단에 있는 경우\n",
    "    else:\n",
    "        # 한 명 이상의 참여자가 동명이인인 경우\n",
    "        for name in completion_set:\n",
    "            if participant.count(name) == 2:\n",
    "                answer = f'{name} 참여자 명단에는 두 명이 있지만, 완주자 명단에는 한 명밖에 없기 때문에 한명은 완주하지 못했습니다.'\n",
    "                break\n",
    "\n",
    "    return answer\n"
   ]
  },
  {
   "cell_type": "markdown",
   "id": "5a951722",
   "metadata": {},
   "source": [
    "# 오답노트"
   ]
  },
  {
   "cell_type": "code",
   "execution_count": 37,
   "id": "179b96d8",
   "metadata": {
    "scrolled": true
   },
   "outputs": [],
   "source": [
    "def solution(participant, completion):\n",
    "    answer = ''\n",
    "# completion 리스트를 set으로 변환하여 이름을 순서대로 정렬\n",
    "    completion_set = set(completion)\n",
    "    \n",
    "    # 주어진 조건 나열\n",
    "    if not (1 <= len(participant) <= 100000 and len(completion_set) == len(participant)-1 and all(len(name) <= 20 for name in participant)):\n",
    "    # print 없어도 됨...\n",
    "    return print(\"Invalid length of participant list\")\n",
    "\n",
    "        # 완주자 명단에 없는 경우\n",
    "        # for문이 없음..\n",
    "        if name not in completion_set:\n",
    "            answer = f'{name} 참여자 명단에는 있지만, 완주자 명단에는 없기 때문에 완주하지 못했습니다.'\n",
    "            break\n",
    "        # 완주자 명단에 있는 경우\n",
    "        else:\n",
    "    \n",
    "    # 한 명 이상의 참여자가 동명이인인 경우\n",
    "            for name in completion_set:\n",
    "                if sum(name in participant) == 2:\n",
    "                    answer = f'{name} 참여자 명단에는 두 명이 있지만, 완주자 명단에는 한 명밖에 없기 때문에 한명은 완주하지 못했습니다.'\n",
    "                    break\n",
    "    return answer"
   ]
  }
 ],
 "metadata": {
  "kernelspec": {
   "display_name": "Python 3 (ipykernel)",
   "language": "python",
   "name": "python3"
  },
  "language_info": {
   "codemirror_mode": {
    "name": "ipython",
    "version": 3
   },
   "file_extension": ".py",
   "mimetype": "text/x-python",
   "name": "python",
   "nbconvert_exporter": "python",
   "pygments_lexer": "ipython3",
   "version": "3.9.12"
  }
 },
 "nbformat": 4,
 "nbformat_minor": 5
}
